{
 "cells": [
  {
   "cell_type": "code",
   "execution_count": 20,
   "metadata": {},
   "outputs": [],
   "source": [
    "import numpy as np\n",
    "import pandas as pd\n",
    "\n"
   ]
  },
  {
   "cell_type": "code",
   "execution_count": 22,
   "metadata": {},
   "outputs": [],
   "source": [
    "def TableMaker( table_list, ncol, header=True ):\n",
    "    \"\"\" \n",
    "Takes a list of html table elements and returns a Dataframe. \n",
    "Elements are separated by an \\n.\n",
    "\n",
    "table_list: Soup object containing the elements from a table from a website.\n",
    "\n",
    "ncol: number of columns in the table\n",
    "\n",
    "header: Specify if table_lists first elements should be used to name the columns.\n",
    "    \"\"\"\n",
    "    \n",
    "    \n",
    "    temp = table_list.strip('\\n').split('\\n')\n",
    "    data_table = data = np.asarray( [el for el in temp if s != ''] ).reshape( -1, ncol)\n",
    "    if header:\n",
    "        return pd.DataFrame( data=data_table[1:], columns=data[0])\n",
    "    else:\n",
    "        return pd.DataFrame( data=data_table)\n",
    "    "
   ]
  },
  {
   "cell_type": "code",
   "execution_count": null,
   "metadata": {},
   "outputs": [],
   "source": []
  }
 ],
 "metadata": {
  "kernelspec": {
   "display_name": "Python 3",
   "language": "python",
   "name": "python3"
  },
  "language_info": {
   "codemirror_mode": {
    "name": "ipython",
    "version": 3
   },
   "file_extension": ".py",
   "mimetype": "text/x-python",
   "name": "python",
   "nbconvert_exporter": "python",
   "pygments_lexer": "ipython3",
   "version": "3.6.9"
  }
 },
 "nbformat": 4,
 "nbformat_minor": 2
}
